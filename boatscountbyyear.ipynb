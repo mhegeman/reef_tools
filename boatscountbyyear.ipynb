{
 "cells": [
  {
   "cell_type": "code",
   "execution_count": 1,
   "metadata": {
    "collapsed": false
   },
   "outputs": [],
   "source": [
    "import pandas as pd\n",
    "import numpy as np\n",
    "\n",
    "#import bokeh modules for interactive plotting\n",
    "import bokeh.charts\n",
    "import bokeh.charts.utils\n",
    "import bokeh.io\n",
    "import bokeh.models\n",
    "import bokeh.plotting\n",
    "from bokeh.models import HoverTool, BoxZoomTool, PanTool, SaveTool\n",
    "\n",
    "from bokeh.palettes import Spectral11\n",
    "\n"
   ]
  },
  {
   "cell_type": "code",
   "execution_count": 2,
   "metadata": {
    "collapsed": false
   },
   "outputs": [],
   "source": [
    "#data\n",
    "def reefBoatCount():\n",
    "    sourceData = pd.read_csv(\"C:/Users/maalbino/Documents/project_dev/reef_tools/ReefsAerialSurvey_boatcount.csv\")\n",
    "    sourceData['Date'] = pd.to_datetime(sourceData['Date'], format='%m/%d/%Y')\n",
    "    sourceData.rename(columns={'Number of Boats':'NumberOfBoats','Reef ':'Reef', 'Boat Type':'BoatType'},inplace=True)\n",
    "    return sourceData\n",
    "#get source data\n",
    "#read data to dataframe    \n",
    "boatCount = reefBoatCount()\n",
    "boatCount['Year'] = boatCount.Date.map(lambda x: x.year)\n",
    "#boatCount.head()\n",
    "\n",
    "#create a palette with a number of colors equal to the number of reef locations\n",
    "numbars = len(boatCount.groupby('Reef',as_index=False).sum().Reef)\n",
    "mypalette = Spectral11[0:numbars]\n"
   ]
  },
  {
   "cell_type": "code",
   "execution_count": 3,
   "metadata": {
    "collapsed": false
   },
   "outputs": [
    {
     "data": {
      "text/html": [
       "<div>\n",
       "<table border=\"1\" class=\"dataframe\">\n",
       "  <thead>\n",
       "    <tr style=\"text-align: right;\">\n",
       "      <th></th>\n",
       "      <th>Reef</th>\n",
       "      <th>Year</th>\n",
       "      <th>NumberOfBoats</th>\n",
       "    </tr>\n",
       "  </thead>\n",
       "  <tbody>\n",
       "    <tr>\n",
       "      <th>0</th>\n",
       "      <td>Atlantic Beach</td>\n",
       "      <td>1995</td>\n",
       "      <td>21.0</td>\n",
       "    </tr>\n",
       "    <tr>\n",
       "      <th>1</th>\n",
       "      <td>Atlantic Beach</td>\n",
       "      <td>1996</td>\n",
       "      <td>19.0</td>\n",
       "    </tr>\n",
       "    <tr>\n",
       "      <th>2</th>\n",
       "      <td>Atlantic Beach</td>\n",
       "      <td>1997</td>\n",
       "      <td>47.0</td>\n",
       "    </tr>\n",
       "    <tr>\n",
       "      <th>3</th>\n",
       "      <td>Atlantic Beach</td>\n",
       "      <td>2000</td>\n",
       "      <td>16.0</td>\n",
       "    </tr>\n",
       "    <tr>\n",
       "      <th>4</th>\n",
       "      <td>Atlantic Beach</td>\n",
       "      <td>2001</td>\n",
       "      <td>80.0</td>\n",
       "    </tr>\n",
       "  </tbody>\n",
       "</table>\n",
       "</div>"
      ],
      "text/plain": [
       "             Reef  Year  NumberOfBoats\n",
       "0  Atlantic Beach  1995           21.0\n",
       "1  Atlantic Beach  1996           19.0\n",
       "2  Atlantic Beach  1997           47.0\n",
       "3  Atlantic Beach  2000           16.0\n",
       "4  Atlantic Beach  2001           80.0"
      ]
     },
     "execution_count": 3,
     "metadata": {},
     "output_type": "execute_result"
    }
   ],
   "source": [
    "#by reef\n",
    "\n",
    "byReef = boatCount.groupby(['Reef','Year'],as_index=False).sum()\n",
    "byReef.head()"
   ]
  },
  {
   "cell_type": "code",
   "execution_count": 4,
   "metadata": {
    "collapsed": false
   },
   "outputs": [],
   "source": [
    "hover = HoverTool()\n",
    "hover.tooltips = [(\"Reef\", \"@x\")]\n",
    "myTools = [BoxZoomTool(), PanTool(), SaveTool(), hover]\n",
    "\n",
    "r = bokeh.plotting.figure(plot_width=750, plot_height=750, title='Total Number of Boats Observed by Reef', tools=myTools)\n",
    "r.vbar(x=byReef['Year'], bottom=0, top=byReef['NumberOfBoats'], width=0.5, color='blue')\n",
    "\n",
    "bokeh.io.show(r)"
   ]
  },
  {
   "cell_type": "code",
   "execution_count": 5,
   "metadata": {
    "collapsed": false
   },
   "outputs": [],
   "source": [
    "byYear = boatCount.groupby('Year', as_index=False).sum()\n",
    "byYear.sort_values('Year', inplace=True)\n",
    "years = len(byYear)\n",
    "mypalette2 = Spectral11[0:years]"
   ]
  },
  {
   "cell_type": "code",
   "execution_count": 6,
   "metadata": {
    "collapsed": false
   },
   "outputs": [],
   "source": [
    "hover = HoverTool()\n",
    "hover.tooltips = [(\"Year\",\"@x\"),\n",
    "                 (\"Boats\", \"@top\"),]\n",
    "myTools = [BoxZoomTool(), PanTool(), SaveTool(), hover]\n",
    "p = bokeh.plotting.figure(background_fill_color='white', plot_width=750, plot_height=750,\n",
    "                         title='Total Number of Boats Observed Using NYSDEC Artificial Reef Sites by Year (1995-2015)',tools=myTools)\n",
    "p.vbar(x=byYear['Year'], bottom=0, top=byYear['NumberOfBoats'], width=0.5, color='green')\n",
    "p.xaxis.axis_label = \"Year\"\n",
    "p.yaxis.axis_label = \"Boat Counts\"\n",
    "\n",
    "bokeh.io.show(p)"
   ]
  },
  {
   "cell_type": "code",
   "execution_count": null,
   "metadata": {
    "collapsed": true
   },
   "outputs": [],
   "source": []
  }
 ],
 "metadata": {
  "anaconda-cloud": {},
  "kernelspec": {
   "display_name": "Python [conda root]",
   "language": "python",
   "name": "conda-root-py"
  },
  "language_info": {
   "codemirror_mode": {
    "name": "ipython",
    "version": 2
   },
   "file_extension": ".py",
   "mimetype": "text/x-python",
   "name": "python",
   "nbconvert_exporter": "python",
   "pygments_lexer": "ipython2",
   "version": "2.7.12"
  }
 },
 "nbformat": 4,
 "nbformat_minor": 0
}
