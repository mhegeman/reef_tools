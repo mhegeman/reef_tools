{
 "cells": [
  {
   "cell_type": "code",
   "execution_count": 1,
   "metadata": {
    "collapsed": false
   },
   "outputs": [
    {
     "data": {
      "text/html": [
       "<img src=\"C:/Users/maalbino/Documents/logodecweb.png\">\n",
       "<h1>Artificial Reef Aerial Survey Results</h1>"
      ],
      "text/plain": [
       "<IPython.core.display.HTML object>"
      ]
     },
     "metadata": {},
     "output_type": "display_data"
    }
   ],
   "source": [
    "%%HTML\n",
    "\n",
    "<h1>Artificial Reef Aerial Survey Results</h1>"
   ]
  },
  {
   "cell_type": "markdown",
   "metadata": {},
   "source": [
    "New York State's Artificial Reefs were developed to increase fisheries habitat. They provide marine fish and other organisms additional opportunities for shelter and foraging and may increase productivity in the areas where they are placed. Anglers visit artificial reef sites to benefit from the increased fishing opportun"
   ]
  },
  {
   "cell_type": "code",
   "execution_count": 1,
   "metadata": {
    "collapsed": true
   },
   "outputs": [],
   "source": [
    "import numpy as np\n",
    "import pandas as pd\n",
    "import nbconvert\n",
    "import datetime\n",
    "import calendar"
   ]
  },
  {
   "cell_type": "code",
   "execution_count": 2,
   "metadata": {
    "collapsed": false
   },
   "outputs": [],
   "source": [
    "#graphing stuff\n",
    "import matplotlib.pyplot as plt\n",
    "import matplotlib\n",
    "matplotlib.style.use('ggplot')\n",
    "#%matplotlib inline\n",
    "from mpl_toolkits.basemap import Basemap"
   ]
  },
  {
   "cell_type": "code",
   "execution_count": 3,
   "metadata": {
    "collapsed": true
   },
   "outputs": [],
   "source": [
    "#get the raw data\n",
    "def reefBoatCount():\n",
    "    sourceData = pd.read_csv(\"C:/Users/maalbino/Documents/project_dev/Reefs/ReefsAerialSurvey_boatcount.csv\")\n",
    "    sourceData['Date'] = pd.to_datetime(sourceData['Date'], format='%m/%d/%Y')\n",
    "    sourceData.rename(columns={'Number of Boats':'NumberOfBoats','Reef ':'Reef','Boat Type':'BoatType'}, inplace=True)\n",
    "    return sourceData"
   ]
  },
  {
   "cell_type": "markdown",
   "metadata": {},
   "source": [
    "### Total boat counts"
   ]
  },
  {
   "cell_type": "code",
   "execution_count": 4,
   "metadata": {
    "collapsed": false
   },
   "outputs": [],
   "source": [
    "boatCount = reefBoatCount()"
   ]
  },
  {
   "cell_type": "code",
   "execution_count": 5,
   "metadata": {
    "collapsed": false
   },
   "outputs": [],
   "source": [
    "#Total number of boats counted over the duration of the survey 1995-2015\n",
    "totalBoats = int(boatCount['NumberOfBoats'].sum())\n",
    "#Break down by date, year and month\n",
    "byDate = boatCount.groupby('Date').sum()\n",
    "#byYear = boatCount.groupby(boatCount.Date.map(lambda x: x.year)).sum()\n",
    "#byYear.index.names = ['Year']\n",
    "#byMonth = boatCount.groupby(boatCount.Date.map(lambda x: x.month)).sum()\n",
    "#byMonth.index.names = ['Month']\n",
    "#Break down by reef\n",
    "byReef = boatCount.groupby('Reef').sum()\n",
    "#Break down by boat type\n",
    "byBoatType = boatCount.groupby('BoatType').sum()"
   ]
  },
  {
   "cell_type": "code",
   "execution_count": 6,
   "metadata": {
    "collapsed": false
   },
   "outputs": [
    {
     "name": "stdout",
     "output_type": "stream",
     "text": [
      "<p>Analysis performed on 8/24/2014 by MAH for years 1995-2015 using reefSurveyResults.ipynb</p>\n"
     ]
    }
   ],
   "source": [
    "analysisBy = \"<p>Analysis performed on 8/24/2014 by MAH for years 1995-2015 using reefSurveyResults.ipynb</p>\"\n",
    "print analysisBy"
   ]
  },
  {
   "cell_type": "code",
   "execution_count": 7,
   "metadata": {
    "collapsed": false
   },
   "outputs": [
    {
     "name": "stdout",
     "output_type": "stream",
     "text": [
      "<h2>Summary</h2><p>The aerial reef survey observed 9382 boats utilizing the reefs on 159 flights between 1995 and 2015.</p>\n"
     ]
    }
   ],
   "source": [
    "#How many flights total\n",
    "flights = len(byDate)\n",
    "totalBoatsStr = \"<h2>Summary</h2><p>The aerial reef survey observed \" + str(totalBoats) + \" boats utilizing the reefs on \" + str(flights) + \" flights between 1995 and 2015.</p>\"\n",
    "print totalBoatsStr"
   ]
  },
  {
   "cell_type": "code",
   "execution_count": 8,
   "metadata": {
    "collapsed": false
   },
   "outputs": [
    {
     "name": "stdout",
     "output_type": "stream",
     "text": [
      "Of these 159 flights, 26 registered greater than 100 boats.\n",
      "These are the ten most successful flights:\n"
     ]
    },
    {
     "data": {
      "text/html": [
       "<div>\n",
       "<table border=\"1\" class=\"dataframe\">\n",
       "  <thead>\n",
       "    <tr style=\"text-align: right;\">\n",
       "      <th></th>\n",
       "      <th>NumberOfBoats</th>\n",
       "    </tr>\n",
       "    <tr>\n",
       "      <th>Date</th>\n",
       "      <th></th>\n",
       "    </tr>\n",
       "  </thead>\n",
       "  <tbody>\n",
       "    <tr>\n",
       "      <th>2005-10-02</th>\n",
       "      <td>284.0</td>\n",
       "    </tr>\n",
       "    <tr>\n",
       "      <th>2015-07-11</th>\n",
       "      <td>277.0</td>\n",
       "    </tr>\n",
       "    <tr>\n",
       "      <th>1997-09-14</th>\n",
       "      <td>256.0</td>\n",
       "    </tr>\n",
       "    <tr>\n",
       "      <th>2007-08-19</th>\n",
       "      <td>218.0</td>\n",
       "    </tr>\n",
       "    <tr>\n",
       "      <th>2004-10-04</th>\n",
       "      <td>217.0</td>\n",
       "    </tr>\n",
       "    <tr>\n",
       "      <th>2002-08-25</th>\n",
       "      <td>215.0</td>\n",
       "    </tr>\n",
       "    <tr>\n",
       "      <th>2001-06-09</th>\n",
       "      <td>199.0</td>\n",
       "    </tr>\n",
       "    <tr>\n",
       "      <th>2004-06-12</th>\n",
       "      <td>197.0</td>\n",
       "    </tr>\n",
       "    <tr>\n",
       "      <th>2001-07-07</th>\n",
       "      <td>192.0</td>\n",
       "    </tr>\n",
       "    <tr>\n",
       "      <th>2000-06-10</th>\n",
       "      <td>177.0</td>\n",
       "    </tr>\n",
       "  </tbody>\n",
       "</table>\n",
       "</div>"
      ],
      "text/plain": [
       "            NumberOfBoats\n",
       "Date                     \n",
       "2005-10-02          284.0\n",
       "2015-07-11          277.0\n",
       "1997-09-14          256.0\n",
       "2007-08-19          218.0\n",
       "2004-10-04          217.0\n",
       "2002-08-25          215.0\n",
       "2001-06-09          199.0\n",
       "2004-06-12          197.0\n",
       "2001-07-07          192.0\n",
       "2000-06-10          177.0"
      ]
     },
     "execution_count": 8,
     "metadata": {},
     "output_type": "execute_result"
    }
   ],
   "source": [
    "#How many flights that saw over 100 boats?\n",
    "moreThan100 = byDate[byDate.NumberOfBoats > 100]\n",
    "print \"Of these \" + str(flights) + \" flights, \" + str(len(moreThan100)) + \" registered greater than 100 boats.\"\n",
    "topTen = moreThan100.sort_values(['NumberOfBoats'], ascending=False)\n",
    "print \"These are the ten most successful flights:\"\n",
    "topTen.head(n=10)\n",
    "topTenTbl = topTen.head(n=10)\n",
    "topTenStr = \"<p>Of these \" + str(flights) + \" flights, \" + str(len(moreThan100)) + \" registered greater than 100 boats. These are the ten most successful flights:</p>\"\n",
    "topTenTbl"
   ]
  },
  {
   "cell_type": "code",
   "execution_count": 9,
   "metadata": {
    "collapsed": false
   },
   "outputs": [],
   "source": [
    "#Make HTML top ten table\n",
    "topTenTblhtml = topTenTbl\\\n",
    "    .to_html()\\\n",
    "    #.replace('<table border=\"1\" class=\"dataframe\">','<table class=\"table table-striped\">')  "
   ]
  },
  {
   "cell_type": "code",
   "execution_count": 10,
   "metadata": {
    "collapsed": false
   },
   "outputs": [
    {
     "data": {
      "text/html": [
       "<div>\n",
       "<table border=\"1\" class=\"dataframe\">\n",
       "  <thead>\n",
       "    <tr style=\"text-align: right;\">\n",
       "      <th></th>\n",
       "      <th>NumberOfBoats</th>\n",
       "    </tr>\n",
       "    <tr>\n",
       "      <th>Year</th>\n",
       "      <th></th>\n",
       "    </tr>\n",
       "  </thead>\n",
       "  <tbody>\n",
       "    <tr>\n",
       "      <th>1995</th>\n",
       "      <td>335.0</td>\n",
       "    </tr>\n",
       "    <tr>\n",
       "      <th>1996</th>\n",
       "      <td>361.0</td>\n",
       "    </tr>\n",
       "    <tr>\n",
       "      <th>1997</th>\n",
       "      <td>763.0</td>\n",
       "    </tr>\n",
       "    <tr>\n",
       "      <th>2000</th>\n",
       "      <td>507.0</td>\n",
       "    </tr>\n",
       "    <tr>\n",
       "      <th>2001</th>\n",
       "      <td>573.0</td>\n",
       "    </tr>\n",
       "    <tr>\n",
       "      <th>2002</th>\n",
       "      <td>946.0</td>\n",
       "    </tr>\n",
       "    <tr>\n",
       "      <th>2003</th>\n",
       "      <td>1250.0</td>\n",
       "    </tr>\n",
       "    <tr>\n",
       "      <th>2004</th>\n",
       "      <td>835.0</td>\n",
       "    </tr>\n",
       "    <tr>\n",
       "      <th>2005</th>\n",
       "      <td>508.0</td>\n",
       "    </tr>\n",
       "    <tr>\n",
       "      <th>2006</th>\n",
       "      <td>250.0</td>\n",
       "    </tr>\n",
       "    <tr>\n",
       "      <th>2007</th>\n",
       "      <td>764.0</td>\n",
       "    </tr>\n",
       "    <tr>\n",
       "      <th>2008</th>\n",
       "      <td>321.0</td>\n",
       "    </tr>\n",
       "    <tr>\n",
       "      <th>2009</th>\n",
       "      <td>0.0</td>\n",
       "    </tr>\n",
       "    <tr>\n",
       "      <th>2014</th>\n",
       "      <td>714.0</td>\n",
       "    </tr>\n",
       "    <tr>\n",
       "      <th>2015</th>\n",
       "      <td>1255.0</td>\n",
       "    </tr>\n",
       "  </tbody>\n",
       "</table>\n",
       "</div>"
      ],
      "text/plain": [
       "      NumberOfBoats\n",
       "Year               \n",
       "1995          335.0\n",
       "1996          361.0\n",
       "1997          763.0\n",
       "2000          507.0\n",
       "2001          573.0\n",
       "2002          946.0\n",
       "2003         1250.0\n",
       "2004          835.0\n",
       "2005          508.0\n",
       "2006          250.0\n",
       "2007          764.0\n",
       "2008          321.0\n",
       "2009            0.0\n",
       "2014          714.0\n",
       "2015         1255.0"
      ]
     },
     "execution_count": 10,
     "metadata": {},
     "output_type": "execute_result"
    }
   ],
   "source": [
    "#How many boats were counted on any given year\n",
    "byYear = boatCount.groupby(boatCount.Date.map(lambda x: x.year)).sum()\n",
    "byYear.index.names = ['Year']\n",
    "byYear"
   ]
  },
  {
   "cell_type": "code",
   "execution_count": 11,
   "metadata": {
    "collapsed": false
   },
   "outputs": [],
   "source": [
    "#add year and cpue column to df\n",
    "flightsPerYear = reefBoatCount()\n",
    "flightsPerYear = flightsPerYear.groupby('Date').sum()\n",
    "flightsPerYear['Year'] = flightsPerYear.index.map(lambda x: x.year)\n",
    "byYear['Flights'] = flightsPerYear.groupby('Year').count()\n",
    "byYear['CPUE'] = byYear['NumberOfBoats'] / byYear['Flights']"
   ]
  },
  {
   "cell_type": "code",
   "execution_count": 12,
   "metadata": {
    "collapsed": false
   },
   "outputs": [
    {
     "data": {
      "text/html": [
       "<div>\n",
       "<table border=\"1\" class=\"dataframe\">\n",
       "  <thead>\n",
       "    <tr style=\"text-align: right;\">\n",
       "      <th></th>\n",
       "      <th>NumberOfBoats</th>\n",
       "      <th>Flights</th>\n",
       "      <th>CPUE</th>\n",
       "    </tr>\n",
       "    <tr>\n",
       "      <th>Year</th>\n",
       "      <th></th>\n",
       "      <th></th>\n",
       "      <th></th>\n",
       "    </tr>\n",
       "  </thead>\n",
       "  <tbody>\n",
       "    <tr>\n",
       "      <th>1995</th>\n",
       "      <td>335.0</td>\n",
       "      <td>8</td>\n",
       "      <td>41.875000</td>\n",
       "    </tr>\n",
       "    <tr>\n",
       "      <th>1996</th>\n",
       "      <td>361.0</td>\n",
       "      <td>8</td>\n",
       "      <td>45.125000</td>\n",
       "    </tr>\n",
       "    <tr>\n",
       "      <th>1997</th>\n",
       "      <td>763.0</td>\n",
       "      <td>13</td>\n",
       "      <td>58.692308</td>\n",
       "    </tr>\n",
       "    <tr>\n",
       "      <th>2000</th>\n",
       "      <td>507.0</td>\n",
       "      <td>4</td>\n",
       "      <td>126.750000</td>\n",
       "    </tr>\n",
       "    <tr>\n",
       "      <th>2001</th>\n",
       "      <td>573.0</td>\n",
       "      <td>10</td>\n",
       "      <td>57.300000</td>\n",
       "    </tr>\n",
       "    <tr>\n",
       "      <th>2002</th>\n",
       "      <td>946.0</td>\n",
       "      <td>14</td>\n",
       "      <td>67.571429</td>\n",
       "    </tr>\n",
       "    <tr>\n",
       "      <th>2003</th>\n",
       "      <td>1250.0</td>\n",
       "      <td>16</td>\n",
       "      <td>78.125000</td>\n",
       "    </tr>\n",
       "    <tr>\n",
       "      <th>2004</th>\n",
       "      <td>835.0</td>\n",
       "      <td>16</td>\n",
       "      <td>52.187500</td>\n",
       "    </tr>\n",
       "    <tr>\n",
       "      <th>2005</th>\n",
       "      <td>508.0</td>\n",
       "      <td>8</td>\n",
       "      <td>63.500000</td>\n",
       "    </tr>\n",
       "    <tr>\n",
       "      <th>2006</th>\n",
       "      <td>250.0</td>\n",
       "      <td>5</td>\n",
       "      <td>50.000000</td>\n",
       "    </tr>\n",
       "    <tr>\n",
       "      <th>2007</th>\n",
       "      <td>764.0</td>\n",
       "      <td>13</td>\n",
       "      <td>58.769231</td>\n",
       "    </tr>\n",
       "    <tr>\n",
       "      <th>2008</th>\n",
       "      <td>321.0</td>\n",
       "      <td>12</td>\n",
       "      <td>26.750000</td>\n",
       "    </tr>\n",
       "    <tr>\n",
       "      <th>2009</th>\n",
       "      <td>0.0</td>\n",
       "      <td>1</td>\n",
       "      <td>0.000000</td>\n",
       "    </tr>\n",
       "    <tr>\n",
       "      <th>2014</th>\n",
       "      <td>714.0</td>\n",
       "      <td>13</td>\n",
       "      <td>54.923077</td>\n",
       "    </tr>\n",
       "    <tr>\n",
       "      <th>2015</th>\n",
       "      <td>1255.0</td>\n",
       "      <td>18</td>\n",
       "      <td>69.722222</td>\n",
       "    </tr>\n",
       "  </tbody>\n",
       "</table>\n",
       "</div>"
      ],
      "text/plain": [
       "      NumberOfBoats  Flights        CPUE\n",
       "Year                                    \n",
       "1995          335.0        8   41.875000\n",
       "1996          361.0        8   45.125000\n",
       "1997          763.0       13   58.692308\n",
       "2000          507.0        4  126.750000\n",
       "2001          573.0       10   57.300000\n",
       "2002          946.0       14   67.571429\n",
       "2003         1250.0       16   78.125000\n",
       "2004          835.0       16   52.187500\n",
       "2005          508.0        8   63.500000\n",
       "2006          250.0        5   50.000000\n",
       "2007          764.0       13   58.769231\n",
       "2008          321.0       12   26.750000\n",
       "2009            0.0        1    0.000000\n",
       "2014          714.0       13   54.923077\n",
       "2015         1255.0       18   69.722222"
      ]
     },
     "execution_count": 12,
     "metadata": {},
     "output_type": "execute_result"
    }
   ],
   "source": [
    "byYear"
   ]
  },
  {
   "cell_type": "code",
   "execution_count": 13,
   "metadata": {
    "collapsed": false
   },
   "outputs": [
    {
     "data": {
      "text/plain": [
       "159L"
      ]
     },
     "execution_count": 13,
     "metadata": {},
     "output_type": "execute_result"
    }
   ],
   "source": [
    "#Double check the math\n",
    "byYear['Flights'].sum()"
   ]
  },
  {
   "cell_type": "code",
   "execution_count": 14,
   "metadata": {
    "collapsed": true
   },
   "outputs": [],
   "source": [
    "#make html table\n",
    "byYearStr = \"<h2>Boat Counts Broken Down By Year</h2>\"\n",
    "byYearhtml = byYear\\\n",
    "    .to_html()\\\n",
    "    #.replace('<table border=\"1\" class=\"dataframe\">','<table class=\"table table-striped\">')\n",
    "    "
   ]
  },
  {
   "cell_type": "code",
   "execution_count": 15,
   "metadata": {
    "collapsed": false
   },
   "outputs": [],
   "source": [
    "#Graph the annual results, this produces a figure as a separate file\n",
    "#by year\n",
    "byYear.plot.bar(title=\"Aerial Reef Survey Summary By Year\")\n",
    "#plt.show()\n",
    "plt.savefig('S:/GISWorkGroup/outputs/byYearBar.png')\n",
    "byYearGraphhtml = '<img src=\"S:/GISWorkGroup/outputs/byYearBar.png\">'"
   ]
  },
  {
   "cell_type": "code",
   "execution_count": 16,
   "metadata": {
    "collapsed": false
   },
   "outputs": [
    {
     "data": {
      "text/html": [
       "<div>\n",
       "<table border=\"1\" class=\"dataframe\">\n",
       "  <thead>\n",
       "    <tr style=\"text-align: right;\">\n",
       "      <th></th>\n",
       "      <th>NumberOfBoats</th>\n",
       "    </tr>\n",
       "    <tr>\n",
       "      <th>Month</th>\n",
       "      <th></th>\n",
       "    </tr>\n",
       "  </thead>\n",
       "  <tbody>\n",
       "    <tr>\n",
       "      <th>1</th>\n",
       "      <td>0.0</td>\n",
       "    </tr>\n",
       "    <tr>\n",
       "      <th>4</th>\n",
       "      <td>34.0</td>\n",
       "    </tr>\n",
       "    <tr>\n",
       "      <th>5</th>\n",
       "      <td>899.0</td>\n",
       "    </tr>\n",
       "    <tr>\n",
       "      <th>6</th>\n",
       "      <td>1390.0</td>\n",
       "    </tr>\n",
       "    <tr>\n",
       "      <th>7</th>\n",
       "      <td>1489.0</td>\n",
       "    </tr>\n",
       "    <tr>\n",
       "      <th>8</th>\n",
       "      <td>1675.0</td>\n",
       "    </tr>\n",
       "    <tr>\n",
       "      <th>9</th>\n",
       "      <td>1177.0</td>\n",
       "    </tr>\n",
       "    <tr>\n",
       "      <th>10</th>\n",
       "      <td>1734.0</td>\n",
       "    </tr>\n",
       "    <tr>\n",
       "      <th>11</th>\n",
       "      <td>756.0</td>\n",
       "    </tr>\n",
       "    <tr>\n",
       "      <th>12</th>\n",
       "      <td>228.0</td>\n",
       "    </tr>\n",
       "  </tbody>\n",
       "</table>\n",
       "</div>"
      ],
      "text/plain": [
       "       NumberOfBoats\n",
       "Month               \n",
       "1                0.0\n",
       "4               34.0\n",
       "5              899.0\n",
       "6             1390.0\n",
       "7             1489.0\n",
       "8             1675.0\n",
       "9             1177.0\n",
       "10            1734.0\n",
       "11             756.0\n",
       "12             228.0"
      ]
     },
     "execution_count": 16,
     "metadata": {},
     "output_type": "execute_result"
    }
   ],
   "source": [
    "byMonth = boatCount.groupby(boatCount.Date.map(lambda x: x.month)).sum()\n",
    "byMonth.index.names = ['Month']\n",
    "byMonth"
   ]
  },
  {
   "cell_type": "code",
   "execution_count": 17,
   "metadata": {
    "collapsed": false
   },
   "outputs": [
    {
     "data": {
      "text/html": [
       "<div>\n",
       "<table border=\"1\" class=\"dataframe\">\n",
       "  <thead>\n",
       "    <tr style=\"text-align: right;\">\n",
       "      <th></th>\n",
       "      <th>NumberOfBoats</th>\n",
       "      <th>Flights</th>\n",
       "      <th>CPUE</th>\n",
       "    </tr>\n",
       "    <tr>\n",
       "      <th>Month</th>\n",
       "      <th></th>\n",
       "      <th></th>\n",
       "      <th></th>\n",
       "    </tr>\n",
       "  </thead>\n",
       "  <tbody>\n",
       "    <tr>\n",
       "      <th>1</th>\n",
       "      <td>0.0</td>\n",
       "      <td>1</td>\n",
       "      <td>0.000000</td>\n",
       "    </tr>\n",
       "    <tr>\n",
       "      <th>4</th>\n",
       "      <td>34.0</td>\n",
       "      <td>6</td>\n",
       "      <td>5.666667</td>\n",
       "    </tr>\n",
       "    <tr>\n",
       "      <th>5</th>\n",
       "      <td>899.0</td>\n",
       "      <td>19</td>\n",
       "      <td>47.315789</td>\n",
       "    </tr>\n",
       "    <tr>\n",
       "      <th>6</th>\n",
       "      <td>1390.0</td>\n",
       "      <td>19</td>\n",
       "      <td>73.157895</td>\n",
       "    </tr>\n",
       "    <tr>\n",
       "      <th>7</th>\n",
       "      <td>1489.0</td>\n",
       "      <td>19</td>\n",
       "      <td>78.368421</td>\n",
       "    </tr>\n",
       "    <tr>\n",
       "      <th>8</th>\n",
       "      <td>1675.0</td>\n",
       "      <td>22</td>\n",
       "      <td>76.136364</td>\n",
       "    </tr>\n",
       "    <tr>\n",
       "      <th>9</th>\n",
       "      <td>1177.0</td>\n",
       "      <td>16</td>\n",
       "      <td>73.562500</td>\n",
       "    </tr>\n",
       "    <tr>\n",
       "      <th>10</th>\n",
       "      <td>1734.0</td>\n",
       "      <td>25</td>\n",
       "      <td>69.360000</td>\n",
       "    </tr>\n",
       "    <tr>\n",
       "      <th>11</th>\n",
       "      <td>756.0</td>\n",
       "      <td>15</td>\n",
       "      <td>50.400000</td>\n",
       "    </tr>\n",
       "    <tr>\n",
       "      <th>12</th>\n",
       "      <td>228.0</td>\n",
       "      <td>17</td>\n",
       "      <td>13.411765</td>\n",
       "    </tr>\n",
       "  </tbody>\n",
       "</table>\n",
       "</div>"
      ],
      "text/plain": [
       "       NumberOfBoats  Flights       CPUE\n",
       "Month                                   \n",
       "1                0.0        1   0.000000\n",
       "4               34.0        6   5.666667\n",
       "5              899.0       19  47.315789\n",
       "6             1390.0       19  73.157895\n",
       "7             1489.0       19  78.368421\n",
       "8             1675.0       22  76.136364\n",
       "9             1177.0       16  73.562500\n",
       "10            1734.0       25  69.360000\n",
       "11             756.0       15  50.400000\n",
       "12             228.0       17  13.411765"
      ]
     },
     "execution_count": 17,
     "metadata": {},
     "output_type": "execute_result"
    }
   ],
   "source": [
    "#add year and cpue column to df\n",
    "flightsPerMonth = reefBoatCount()\n",
    "flights = flightsPerMonth.groupby('Date').sum()\n",
    "flights['Month'] = flights.index.map(lambda x: x.month)\n",
    "#flights\n",
    "byMonth['Flights'] = flights.groupby('Month').count()\n",
    "byMonth['CPUE'] = byMonth['NumberOfBoats'] / byMonth['Flights']\n",
    "byMonth"
   ]
  },
  {
   "cell_type": "code",
   "execution_count": 18,
   "metadata": {
    "collapsed": false
   },
   "outputs": [
    {
     "data": {
      "text/plain": [
       "159L"
      ]
     },
     "execution_count": 18,
     "metadata": {},
     "output_type": "execute_result"
    }
   ],
   "source": [
    "#check my math\n",
    "byMonth['Flights'].sum()"
   ]
  },
  {
   "cell_type": "code",
   "execution_count": 19,
   "metadata": {
    "collapsed": true
   },
   "outputs": [],
   "source": [
    "byMonthStr = \"<h2>Boat Counts Broken Down By Month</h2>\"\n",
    "byMonthhtml = byMonth\\\n",
    "    .to_html()\\\n",
    "    #.replace('<table border=\"1\" class=\"dataframe\">','<table class=\"table table-striped\">')"
   ]
  },
  {
   "cell_type": "code",
   "execution_count": 20,
   "metadata": {
    "collapsed": false,
    "scrolled": true
   },
   "outputs": [],
   "source": [
    "#by month\n",
    "byMonth.plot.bar(title=\"Aerial Reef Survey Summary By Month\")\n",
    "plt.savefig('S:/GISWorkGroup/outputs/byMonthBar.png')\n",
    "byMonthGraphhtml = '<img src=\"S:/GISWorkGroup/outputs/byMonthBar.png\">'"
   ]
  },
  {
   "cell_type": "code",
   "execution_count": 21,
   "metadata": {
    "collapsed": false
   },
   "outputs": [
    {
     "data": {
      "text/html": [
       "<div>\n",
       "<table border=\"1\" class=\"dataframe\">\n",
       "  <thead>\n",
       "    <tr style=\"text-align: right;\">\n",
       "      <th></th>\n",
       "      <th>NumberOfBoats</th>\n",
       "    </tr>\n",
       "    <tr>\n",
       "      <th>Reef</th>\n",
       "      <th></th>\n",
       "    </tr>\n",
       "  </thead>\n",
       "  <tbody>\n",
       "    <tr>\n",
       "      <th>Rockaway</th>\n",
       "      <td>2209.0</td>\n",
       "    </tr>\n",
       "    <tr>\n",
       "      <th>Atlantic Beach</th>\n",
       "      <td>1475.0</td>\n",
       "    </tr>\n",
       "    <tr>\n",
       "      <th>Hempstead</th>\n",
       "      <td>1227.0</td>\n",
       "    </tr>\n",
       "    <tr>\n",
       "      <th>Fire Island</th>\n",
       "      <td>1057.0</td>\n",
       "    </tr>\n",
       "    <tr>\n",
       "      <th>Kismet</th>\n",
       "      <td>758.0</td>\n",
       "    </tr>\n",
       "    <tr>\n",
       "      <th>McAllister</th>\n",
       "      <td>635.0</td>\n",
       "    </tr>\n",
       "    <tr>\n",
       "      <th>Yellowbar</th>\n",
       "      <td>535.0</td>\n",
       "    </tr>\n",
       "    <tr>\n",
       "      <th>Shinnecock</th>\n",
       "      <td>418.0</td>\n",
       "    </tr>\n",
       "    <tr>\n",
       "      <th>Moriches</th>\n",
       "      <td>410.0</td>\n",
       "    </tr>\n",
       "    <tr>\n",
       "      <th>Matinecock</th>\n",
       "      <td>356.0</td>\n",
       "    </tr>\n",
       "    <tr>\n",
       "      <th>Smithtown</th>\n",
       "      <td>302.0</td>\n",
       "    </tr>\n",
       "  </tbody>\n",
       "</table>\n",
       "</div>"
      ],
      "text/plain": [
       "                NumberOfBoats\n",
       "Reef                         \n",
       "Rockaway               2209.0\n",
       "Atlantic Beach         1475.0\n",
       "Hempstead              1227.0\n",
       "Fire Island            1057.0\n",
       "Kismet                  758.0\n",
       "McAllister              635.0\n",
       "Yellowbar               535.0\n",
       "Shinnecock              418.0\n",
       "Moriches                410.0\n",
       "Matinecock              356.0\n",
       "Smithtown               302.0"
      ]
     },
     "execution_count": 21,
     "metadata": {},
     "output_type": "execute_result"
    }
   ],
   "source": [
    "#We want to know which reef has had the greatest use over the entirety of the survey\n",
    "reefs = boatCount.groupby('Reef').sum()\n",
    "reefs = reefs.sort_values(['NumberOfBoats'], ascending=False)\n",
    "reefs"
   ]
  },
  {
   "cell_type": "code",
   "execution_count": 22,
   "metadata": {
    "collapsed": true
   },
   "outputs": [],
   "source": [
    "byReefStr = \"<h2>Boat Counts Broken Down By Reef</h2>\"\n",
    "byReefhtml = reefs\\\n",
    "    .to_html()"
   ]
  },
  {
   "cell_type": "code",
   "execution_count": 23,
   "metadata": {
    "collapsed": false
   },
   "outputs": [],
   "source": [
    "reefs.plot.pie(y='NumberOfBoats', figsize=(8,8), autopct='%.1f', legend=False)\n",
    "plt.savefig('S:/GISWorkGroup/outputs/byReefPie.png')\n",
    "byReefGraphhtml = '<img src=\"S:/GISWorkGroup/outputs/byReefPie.png\">'"
   ]
  },
  {
   "cell_type": "markdown",
   "metadata": {},
   "source": [
    "## Break down by boat size\n"
   ]
  },
  {
   "cell_type": "code",
   "execution_count": 24,
   "metadata": {
    "collapsed": false
   },
   "outputs": [
    {
     "data": {
      "text/html": [
       "<div>\n",
       "<table border=\"1\" class=\"dataframe\">\n",
       "  <thead>\n",
       "    <tr style=\"text-align: right;\">\n",
       "      <th></th>\n",
       "      <th>NumberOfBoats</th>\n",
       "      <th>Percentage</th>\n",
       "    </tr>\n",
       "    <tr>\n",
       "      <th>BoatType</th>\n",
       "      <th></th>\n",
       "      <th></th>\n",
       "    </tr>\n",
       "  </thead>\n",
       "  <tbody>\n",
       "    <tr>\n",
       "      <th>Large</th>\n",
       "      <td>664.0</td>\n",
       "      <td>7.077382</td>\n",
       "    </tr>\n",
       "    <tr>\n",
       "      <th>Small</th>\n",
       "      <td>8718.0</td>\n",
       "      <td>92.922618</td>\n",
       "    </tr>\n",
       "  </tbody>\n",
       "</table>\n",
       "</div>"
      ],
      "text/plain": [
       "          NumberOfBoats  Percentage\n",
       "BoatType                           \n",
       "Large             664.0    7.077382\n",
       "Small            8718.0   92.922618"
      ]
     },
     "execution_count": 24,
     "metadata": {},
     "output_type": "execute_result"
    }
   ],
   "source": [
    "moreBoats = reefBoatCount()\n",
    "bySize = moreBoats.groupby('BoatType').sum()\n",
    "bySize['Percentage'] = (bySize['NumberOfBoats'] / totalBoats)*100\n",
    "bySize"
   ]
  },
  {
   "cell_type": "code",
   "execution_count": null,
   "metadata": {
    "collapsed": true
   },
   "outputs": [],
   "source": [
    "#Basic Map\n",
    "reefLocations = pd.read_csv(\"C:/Users/maalbino/Documents/opendata/Reefs/reefPoints.csv\")"
   ]
  },
  {
   "cell_type": "markdown",
   "metadata": {},
   "source": [
    "## Break down by boat size"
   ]
  },
  {
   "cell_type": "code",
   "execution_count": 25,
   "metadata": {
    "collapsed": false
   },
   "outputs": [],
   "source": [
    "#Create HTML page\n",
    "htmlStart = '''\n",
    "<html>\n",
    "    <body>\n",
    "        <img src=\"http://internal.dec.state.ny.us/images/dpaeimages/logodecweb.png\" width=\"400\"><br>\n",
    "        <font face=\"Arial\" color=\"#2C5234\">\n",
    "        <h1>Artificial Reef Survey Results</h1> </font>\n",
    "        <font face=\"Arial\">'''\n",
    "\n",
    "htmlMiddle1 = \"\\n\"+ totalBoatsStr + \"\\n\" +  topTenStr + topTenTblhtml + \"<hr>\" + byYearStr + byYearhtml + byYearGraphhtml+\"<hr>\"\\\n",
    "    + byMonthStr + byMonthhtml + byMonthGraphhtml +\"<hr>\" + byReefStr + byReefhtml + byReefGraphhtml\n",
    "\n",
    "\n",
    "htmlEnd = '<font face=\"Arial\" size=\"1\">' + analysisBy + \"</font></font></body></html>\"\n",
    "\n",
    "htmlString = htmlStart + \"<hr>\" + htmlMiddle1 + \"<hr>\" + htmlEnd\n",
    "f = open('C:/Users/maalbino/Desktop/test1.html', 'w')\n",
    "f.write(htmlString)\n",
    "f.close()"
   ]
  },
  {
   "cell_type": "code",
   "execution_count": null,
   "metadata": {
    "collapsed": true
   },
   "outputs": [],
   "source": []
  },
  {
   "cell_type": "code",
   "execution_count": null,
   "metadata": {
    "collapsed": true
   },
   "outputs": [],
   "source": []
  }
 ],
 "metadata": {
  "anaconda-cloud": {},
  "kernelspec": {
   "display_name": "Python [Root]",
   "language": "python",
   "name": "Python [Root]"
  },
  "language_info": {
   "codemirror_mode": {
    "name": "ipython",
    "version": 2
   },
   "file_extension": ".py",
   "mimetype": "text/x-python",
   "name": "python",
   "nbconvert_exporter": "python",
   "pygments_lexer": "ipython2",
   "version": "2.7.12"
  }
 },
 "nbformat": 4,
 "nbformat_minor": 0
}
