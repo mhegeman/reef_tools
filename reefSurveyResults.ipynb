{
 "cells": [
  {
   "cell_type": "code",
   "execution_count": null,
   "metadata": {
    "collapsed": false
   },
   "outputs": [],
   "source": [
    "%%HTML\n",
    "\n",
    "<h1>Artificial Reef Aerial Survey Results</h1>"
   ]
  },
  {
   "cell_type": "markdown",
   "metadata": {},
   "source": [
    "New York State's Artificial Reefs were developed to increase fisheries habitat. They provide marine fish and other organisms additional opportunities for shelter and foraging and may increase productivity in the areas where they are placed. Anglers visit artificial reef sites to benefit from the increased fishing opportun"
   ]
  },
  {
   "cell_type": "code",
   "execution_count": null,
   "metadata": {
    "collapsed": true
   },
   "outputs": [],
   "source": [
    "import numpy as np\n",
    "import pandas as pd\n",
    "import nbconvert\n",
    "import datetime\n",
    "import calendar"
   ]
  },
  {
   "cell_type": "code",
   "execution_count": null,
   "metadata": {
    "collapsed": false
   },
   "outputs": [],
   "source": [
    "#graphing stuff\n",
    "import matplotlib.pyplot as plt\n",
    "import matplotlib\n",
    "matplotlib.style.use('ggplot')\n",
    "#%matplotlib inline\n",
    "from mpl_toolkits.basemap import Basemap"
   ]
  },
  {
   "cell_type": "code",
   "execution_count": null,
   "metadata": {
    "collapsed": true
   },
   "outputs": [],
   "source": [
    "#get the raw data\n",
    "def reefBoatCount():\n",
    "    sourceData = pd.read_csv(\"C:/Users/maalbino/Documents/project_dev/Reefs/ReefsAerialSurvey_boatcount.csv\")\n",
    "    sourceData['Date'] = pd.to_datetime(sourceData['Date'], format='%m/%d/%Y')\n",
    "    sourceData.rename(columns={'Number of Boats':'NumberOfBoats','Reef ':'Reef','Boat Type':'BoatType'}, inplace=True)\n",
    "    return sourceData"
   ]
  },
  {
   "cell_type": "markdown",
   "metadata": {},
   "source": [
    "### Total boat counts"
   ]
  },
  {
   "cell_type": "code",
   "execution_count": null,
   "metadata": {
    "collapsed": false
   },
   "outputs": [],
   "source": [
    "boatCount = reefBoatCount()"
   ]
  },
  {
   "cell_type": "code",
   "execution_count": null,
   "metadata": {
    "collapsed": false
   },
   "outputs": [],
   "source": [
    "#Total number of boats counted over the duration of the survey 1995-2015\n",
    "totalBoats = int(boatCount['NumberOfBoats'].sum())\n",
    "#Break down by date, year and month\n",
    "byDate = boatCount.groupby('Date').sum()\n",
    "#byYear = boatCount.groupby(boatCount.Date.map(lambda x: x.year)).sum()\n",
    "#byYear.index.names = ['Year']\n",
    "#byMonth = boatCount.groupby(boatCount.Date.map(lambda x: x.month)).sum()\n",
    "#byMonth.index.names = ['Month']\n",
    "#Break down by reef\n",
    "byReef = boatCount.groupby('Reef').sum()\n",
    "#Break down by boat type\n",
    "byBoatType = boatCount.groupby('BoatType').sum()"
   ]
  },
  {
   "cell_type": "code",
   "execution_count": null,
   "metadata": {
    "collapsed": false
   },
   "outputs": [],
   "source": [
    "analysisBy = \"<p>Analysis performed on 8/24/2014 by MAH for years 1995-2015 using reefSurveyResults.ipynb</p>\"\n",
    "print analysisBy"
   ]
  },
  {
   "cell_type": "code",
   "execution_count": null,
   "metadata": {
    "collapsed": false
   },
   "outputs": [],
   "source": [
    "#How many flights total\n",
    "flights = len(byDate)\n",
    "totalBoatsStr = \"<h2>Summary</h2><p>The aerial reef survey observed \" + str(totalBoats) + \" boats utilizing the reefs on \" + str(flights) + \" flights between 1995 and 2015.</p>\"\n",
    "print totalBoatsStr"
   ]
  },
  {
   "cell_type": "code",
   "execution_count": null,
   "metadata": {
    "collapsed": false
   },
   "outputs": [],
   "source": [
    "#How many flights that saw over 100 boats?\n",
    "moreThan100 = byDate[byDate.NumberOfBoats > 100]\n",
    "print \"Of these \" + str(flights) + \" flights, \" + str(len(moreThan100)) + \" registered greater than 100 boats.\"\n",
    "topTen = moreThan100.sort_values(['NumberOfBoats'], ascending=False)\n",
    "print \"These are the ten most successful flights:\"\n",
    "topTen.head(n=10)\n",
    "topTenTbl = topTen.head(n=10)\n",
    "topTenStr = \"<p>Of these \" + str(flights) + \" flights, \" + str(len(moreThan100)) + \" registered greater than 100 boats. These are the ten most successful flights:</p>\"\n",
    "topTenTbl"
   ]
  },
  {
   "cell_type": "code",
   "execution_count": null,
   "metadata": {
    "collapsed": false
   },
   "outputs": [],
   "source": [
    "#Make HTML top ten table\n",
    "topTenTblhtml = topTenTbl\\\n",
    "    .to_html()\\\n",
    "    #.replace('<table border=\"1\" class=\"dataframe\">','<table class=\"table table-striped\">')  "
   ]
  },
  {
   "cell_type": "code",
   "execution_count": null,
   "metadata": {
    "collapsed": false
   },
   "outputs": [],
   "source": [
    "#How many boats were counted on any given year\n",
    "byYear = boatCount.groupby(boatCount.Date.map(lambda x: x.year)).sum()\n",
    "byYear.index.names = ['Year']\n",
    "byYear"
   ]
  },
  {
   "cell_type": "code",
   "execution_count": null,
   "metadata": {
    "collapsed": false
   },
   "outputs": [],
   "source": [
    "#add year and cpue column to df\n",
    "flightsPerYear = reefBoatCount()\n",
    "flightsPerYear = flightsPerYear.groupby('Date').sum()\n",
    "flightsPerYear['Year'] = flightsPerYear.index.map(lambda x: x.year)\n",
    "byYear['Flights'] = flightsPerYear.groupby('Year').count()\n",
    "byYear['CPUE'] = byYear['NumberOfBoats'] / byYear['Flights']"
   ]
  },
  {
   "cell_type": "code",
   "execution_count": null,
   "metadata": {
    "collapsed": false
   },
   "outputs": [],
   "source": [
    "byYear"
   ]
  },
  {
   "cell_type": "code",
   "execution_count": null,
   "metadata": {
    "collapsed": false
   },
   "outputs": [],
   "source": [
    "#Double check the math\n",
    "byYear['Flights'].sum()"
   ]
  },
  {
   "cell_type": "code",
   "execution_count": null,
   "metadata": {
    "collapsed": true
   },
   "outputs": [],
   "source": [
    "#make html table\n",
    "byYearStr = \"<h2>Boat Counts Broken Down By Year</h2>\"\n",
    "byYearhtml = byYear\\\n",
    "    .to_html()\\\n",
    "    #.replace('<table border=\"1\" class=\"dataframe\">','<table class=\"table table-striped\">')\n",
    "    "
   ]
  },
  {
   "cell_type": "code",
   "execution_count": null,
   "metadata": {
    "collapsed": false
   },
   "outputs": [],
   "source": [
    "#Graph the annual results, this produces a figure as a separate file\n",
    "#by year\n",
    "byYear.plot.bar(title=\"Aerial Reef Survey Summary By Year\")\n",
    "#plt.show()\n",
    "plt.savefig('S:/GISWorkGroup/outputs/byYearBar.png')\n",
    "byYearGraphhtml = '<img src=\"S:/GISWorkGroup/outputs/byYearBar.png\">'"
   ]
  },
  {
   "cell_type": "code",
   "execution_count": null,
   "metadata": {
    "collapsed": false
   },
   "outputs": [],
   "source": [
    "byMonth = boatCount.groupby(boatCount.Date.map(lambda x: x.month)).sum()\n",
    "byMonth.index.names = ['Month']\n",
    "byMonth"
   ]
  },
  {
   "cell_type": "code",
   "execution_count": null,
   "metadata": {
    "collapsed": false
   },
   "outputs": [],
   "source": [
    "#add year and cpue column to df\n",
    "flightsPerMonth = reefBoatCount()\n",
    "flights = flightsPerMonth.groupby('Date').sum()\n",
    "flights['Month'] = flights.index.map(lambda x: x.month)\n",
    "#flights\n",
    "byMonth['Flights'] = flights.groupby('Month').count()\n",
    "byMonth['CPUE'] = byMonth['NumberOfBoats'] / byMonth['Flights']\n",
    "byMonth"
   ]
  },
  {
   "cell_type": "code",
   "execution_count": null,
   "metadata": {
    "collapsed": false
   },
   "outputs": [],
   "source": [
    "#check my math\n",
    "byMonth['Flights'].sum()"
   ]
  },
  {
   "cell_type": "code",
   "execution_count": null,
   "metadata": {
    "collapsed": true
   },
   "outputs": [],
   "source": [
    "byMonthStr = \"<h2>Boat Counts Broken Down By Month</h2>\"\n",
    "byMonthhtml = byMonth\\\n",
    "    .to_html()\\\n",
    "    #.replace('<table border=\"1\" class=\"dataframe\">','<table class=\"table table-striped\">')"
   ]
  },
  {
   "cell_type": "code",
   "execution_count": null,
   "metadata": {
    "collapsed": false,
    "scrolled": true
   },
   "outputs": [],
   "source": [
    "#by month\n",
    "byMonth.plot.bar(title=\"Aerial Reef Survey Summary By Month\")\n",
    "plt.savefig('S:/GISWorkGroup/outputs/byMonthBar.png')\n",
    "byMonthGraphhtml = '<img src=\"S:/GISWorkGroup/outputs/byMonthBar.png\">'"
   ]
  },
  {
   "cell_type": "code",
   "execution_count": null,
   "metadata": {
    "collapsed": false
   },
   "outputs": [],
   "source": [
    "#We want to know which reef has had the greatest use over the entirety of the survey\n",
    "reefs = boatCount.groupby('Reef').sum()\n",
    "reefs = reefs.sort_values(['NumberOfBoats'], ascending=False)\n",
    "reefs"
   ]
  },
  {
   "cell_type": "code",
   "execution_count": null,
   "metadata": {
    "collapsed": true
   },
   "outputs": [],
   "source": [
    "byReefStr = \"<h2>Boat Counts Broken Down By Reef</h2>\"\n",
    "byReefhtml = reefs\\\n",
    "    .to_html()"
   ]
  },
  {
   "cell_type": "code",
   "execution_count": null,
   "metadata": {
    "collapsed": false
   },
   "outputs": [],
   "source": [
    "reefs.plot.pie(y='NumberOfBoats', figsize=(8,8), autopct='%.1f', legend=False)\n",
    "plt.savefig('S:/GISWorkGroup/outputs/byReefPie.png')\n",
    "byReefGraphhtml = '<img src=\"S:/GISWorkGroup/outputs/byReefPie.png\">'"
   ]
  },
  {
   "cell_type": "markdown",
   "metadata": {},
   "source": [
    "## Break down by boat size\n"
   ]
  },
  {
   "cell_type": "code",
   "execution_count": null,
   "metadata": {
    "collapsed": false
   },
   "outputs": [],
   "source": [
    "moreBoats = reefBoatCount()\n",
    "bySize = moreBoats.groupby('BoatType').sum()\n",
    "bySize['Percentage'] = (bySize['NumberOfBoats'] / totalBoats)*100\n",
    "bySize"
   ]
  },
  {
   "cell_type": "code",
   "execution_count": null,
   "metadata": {
    "collapsed": true
   },
   "outputs": [],
   "source": [
    "#Basic Map\n",
    "reefLocations = pd.read_csv(\"C:/Users/maalbino/Documents/opendata/Reefs/reefPoints.csv\")"
   ]
  },
  {
   "cell_type": "markdown",
   "metadata": {},
   "source": [
    "## Break down by boat size"
   ]
  },
  {
   "cell_type": "code",
   "execution_count": null,
   "metadata": {
    "collapsed": false
   },
   "outputs": [],
   "source": [
    "#Create HTML page\n",
    "htmlStart = '''\n",
    "<html>\n",
    "    <body>\n",
    "        <img src=\"http://internal.dec.state.ny.us/images/dpaeimages/logodecweb.png\" width=\"400\"><br>\n",
    "        <font face=\"Arial\" color=\"#2C5234\">\n",
    "        <h1>Artificial Reef Survey Results</h1> </font>\n",
    "        <font face=\"Arial\">'''\n",
    "\n",
    "htmlMiddle1 = \"\\n\"+ totalBoatsStr + \"\\n\" +  topTenStr + topTenTblhtml + \"<hr>\" + byYearStr + byYearhtml + byYearGraphhtml+\"<hr>\"\\\n",
    "    + byMonthStr + byMonthhtml + byMonthGraphhtml +\"<hr>\" + byReefStr + byReefhtml + byReefGraphhtml\n",
    "\n",
    "\n",
    "htmlEnd = '<font face=\"Arial\" size=\"1\">' + analysisBy + \"</font></font></body></html>\"\n",
    "\n",
    "htmlString = htmlStart + \"<hr>\" + htmlMiddle1 + \"<hr>\" + htmlEnd\n",
    "f = open('C:/Users/maalbino/Desktop/test1.html', 'w')\n",
    "f.write(htmlString)\n",
    "f.close()"
   ]
  },
  {
   "cell_type": "code",
   "execution_count": null,
   "metadata": {
    "collapsed": true
   },
   "outputs": [],
   "source": []
  },
  {
   "cell_type": "code",
   "execution_count": null,
   "metadata": {
    "collapsed": true
   },
   "outputs": [],
   "source": []
  }
 ],
 "metadata": {
  "anaconda-cloud": {},
  "kernelspec": {
   "display_name": "Python [conda root]",
   "language": "python",
   "name": "conda-root-py"
  },
  "language_info": {
   "codemirror_mode": {
    "name": "ipython",
    "version": 2
   },
   "file_extension": ".py",
   "mimetype": "text/x-python",
   "name": "python",
   "nbconvert_exporter": "python",
   "pygments_lexer": "ipython2",
   "version": "2.7.12"
  }
 },
 "nbformat": 4,
 "nbformat_minor": 0
}
