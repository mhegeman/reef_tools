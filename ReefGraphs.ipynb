{
 "cells": [
  {
   "cell_type": "code",
   "execution_count": null,
   "metadata": {
    "collapsed": true
   },
   "outputs": [],
   "source": [
    "import numpy as np\n",
    "import pandas as pd\n",
    "import matplotlib.pyplot as plt\n",
    "import seaborn as sns\n",
    "\n",
    "%matplotlib inline"
   ]
  },
  {
   "cell_type": "code",
   "execution_count": null,
   "metadata": {
    "collapsed": true
   },
   "outputs": [],
   "source": [
    "def reefBoatCount():\n",
    "    sourceData = pd.read_csv(\"C:/Users/maalbino/Documents/project_dev/Reefs/ReefsAerialSurvey_boatcount.csv\")\n",
    "    sourceData['Date'] = pd.to_datetime(sourceData['Date'], format='%m/%d/%Y')\n",
    "    sourceData.rename(columns={'Number of Boats':'NumberOfBoats','Reef ':'Reef', 'Boat Type':'BoatType'},inplace=True)\n",
    "    return sourceData"
   ]
  },
  {
   "cell_type": "code",
   "execution_count": null,
   "metadata": {
    "collapsed": false
   },
   "outputs": [],
   "source": [
    "#get source data\n",
    "#read data to dataframe    \n",
    "boatCount = reefBoatCount()\n",
    "boatCount.head(n=10)"
   ]
  },
  {
   "cell_type": "code",
   "execution_count": null,
   "metadata": {
    "collapsed": false
   },
   "outputs": [],
   "source": [
    "#get the total number of boats\n",
    "totalBoats = int(boatCount['NumberOfBoats'].sum())\n",
    "print \"Total number of boats observed = \" + str(totalBoats)\n",
    "#aggregate data various ways and get sum of boats per group\n",
    "byDate = boatCount.groupby('Date').sum()\n",
    "byReef = boatCount.groupby('Reef').sum()\n",
    "byBoatType = boatCount.groupby('BoatType').sum()\n",
    "byYear = boatCount.groupby(boatCount.Date.map(lambda x: x.year)).sum()\n",
    "byYear.index.names = ['Year']"
   ]
  },
  {
   "cell_type": "code",
   "execution_count": null,
   "metadata": {
    "collapsed": false
   },
   "outputs": [],
   "source": [
    "#By year\n",
    "#graphs matplotlib\n",
    "byYear.plot(kind='bar')"
   ]
  },
  {
   "cell_type": "code",
   "execution_count": null,
   "metadata": {
    "collapsed": false
   },
   "outputs": [],
   "source": [
    "#make some plots with seaborn\n",
    "sns.set(style=\"ticks\", context=\"talk\")\n",
    "# Set up the matplotlib figure\n",
    "current_palette = sns.color_palette()\n",
    "g = sns.barplot(x=byYear.index, y=\"NumberOfBoats\", palette=sns.color_palette(current_palette), data=byYear, ci=\"None\")\n",
    "sns.despine()\n",
    "\n"
   ]
  },
  {
   "cell_type": "code",
   "execution_count": null,
   "metadata": {
    "collapsed": false
   },
   "outputs": [],
   "source": [
    "#make some plots with seaborn\n",
    "sns.set(style=\"ticks\", context=\"talk\")\n",
    "# Set up the matplotlib figure\n",
    "current_palette = sns.color_palette()\n",
    "g = sns.barplot(x=byYear.index, y=\"NumberOfBoats\", palette=sns.color_palette(current_palette), data=byYear, ci=\"None\")\n",
    "sns.despine()\n",
    "g.figure.set_size_inches(12,7)\n",
    "g.axes.set_title(\"Boat Usage on Artificial Reef Sites by Year\", fontsize=24, color=\"b\",alpha=0.5)"
   ]
  },
  {
   "cell_type": "code",
   "execution_count": null,
   "metadata": {
    "collapsed": false
   },
   "outputs": [],
   "source": [
    "#make some plots with seaborn\n",
    "sns.set(style=\"ticks\", context=\"talk\")\n",
    "# Set up the matplotlib figure\n",
    "current_palette = sns.color_palette()\n",
    "g = sns.barplot(x=byYear.index, y=\"NumberOfBoats\", palette=sns.color_palette(current_palette), data=byYear, ci=\"None\")\n",
    "sns.despine()\n",
    "\n",
    "g.figure.set_size_inches(12,7)\n",
    "g.axes.set_title(\"Boat Usage on Artificial Reef Sites by Year\", fontsize=24, color=\"b\",alpha=0.5)\n",
    "\n",
    "g.set_ylabel(\"Number of Boats Observed\",size = 18,color=\"r\",alpha=0.5)"
   ]
  },
  {
   "cell_type": "code",
   "execution_count": null,
   "metadata": {
    "collapsed": false
   },
   "outputs": [],
   "source": [
    "byReefType = boatCount.groupby(['Reef', 'BoatType']).sum()\n",
    "byReefType.head()"
   ]
  },
  {
   "cell_type": "code",
   "execution_count": null,
   "metadata": {
    "collapsed": false
   },
   "outputs": [],
   "source": [
    "g = sns.barplot(x=byReefType.index.levels[0], y=\"NumberOfBoats\", palette=sns.color_palette(current_palette), data=byReef, ci=\"None\")\n",
    "sns.despine()\n",
    "\n",
    "g.axes.set_title(\"Boat Usage on Artificial Reef Sites by Reef\", fontsize=24, color=\"g\",alpha=0.75)\n",
    "\n",
    "g.set_xlabel(\"Reef\", size=12, color=\"g\", alpha=0.5)\n",
    "g.set_ylabel(\"Number of Boats Observed\",size = 12,color=\"g\",alpha=0.5)\n",
    "g.set_xticklabels(byReefType.index.levels[0],rotation=90, rotation_mode=\"default\")"
   ]
  },
  {
   "cell_type": "code",
   "execution_count": null,
   "metadata": {
    "collapsed": false
   },
   "outputs": [],
   "source": [
    "g = sns.barplot(x=byReefType.index.levels[0], y=\"NumberOfBoats\", hue=byReefType.index.levels[1], palette=sns.color_palette(current_palette), data=byReef, ci=\"None\")\n",
    "sns.despine()\n",
    "\n",
    "g.axes.set_title(\"Boat Usage on Artificial Reef Sites by Reef\", fontsize=24, color=\"g\",alpha=0.75)\n",
    "\n",
    "g.set_xlabel(\"Reef\", size=12, color=\"g\", alpha=0.5)\n",
    "g.set_ylabel(\"Number of Boats Observed\",size = 12,color=\"g\",alpha=0.5)\n",
    "g.set_xticklabels(byReefType.index.levels[0],rotation=90, rotation_mode=\"default\")"
   ]
  },
  {
   "cell_type": "code",
   "execution_count": null,
   "metadata": {
    "collapsed": false
   },
   "outputs": [],
   "source": [
    "byReefType.index.levels[1]\n"
   ]
  },
  {
   "cell_type": "code",
   "execution_count": null,
   "metadata": {
    "collapsed": true
   },
   "outputs": [],
   "source": []
  }
 ],
 "metadata": {
  "anaconda-cloud": {},
  "kernelspec": {
   "display_name": "Python [conda root]",
   "language": "python",
   "name": "conda-root-py"
  },
  "language_info": {
   "codemirror_mode": {
    "name": "ipython",
    "version": 2
   },
   "file_extension": ".py",
   "mimetype": "text/x-python",
   "name": "python",
   "nbconvert_exporter": "python",
   "pygments_lexer": "ipython2",
   "version": "2.7.12"
  }
 },
 "nbformat": 4,
 "nbformat_minor": 0
}
