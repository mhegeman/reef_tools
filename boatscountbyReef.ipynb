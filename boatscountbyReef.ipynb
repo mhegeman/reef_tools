{
 "cells": [
  {
   "cell_type": "code",
   "execution_count": null,
   "metadata": {
    "collapsed": false
   },
   "outputs": [],
   "source": [
    "import pandas as pd\n",
    "import numpy as np\n",
    "\n",
    "#import bokeh modules for interactive plotting\n",
    "import bokeh.charts\n",
    "import bokeh.charts.utils\n",
    "import bokeh.io\n",
    "import bokeh.models\n",
    "import bokeh.plotting\n",
    "from bokeh.models import HoverTool, BoxZoomTool, PanTool, SaveTool\n",
    "\n",
    "from bokeh.palettes import Spectral11\n",
    "from bokeh.charts import Bar, output_file, show\n"
   ]
  },
  {
   "cell_type": "code",
   "execution_count": null,
   "metadata": {
    "collapsed": false
   },
   "outputs": [],
   "source": [
    "#data\n",
    "def reefBoatCount():\n",
    "    sourceData = pd.read_csv(\"C:/Users/maalbino/Documents/project_dev/reef_tools/ReefsAerialSurvey_boatcount.csv\")\n",
    "    sourceData['Date'] = pd.to_datetime(sourceData['Date'], format='%m/%d/%Y')\n",
    "    sourceData.rename(columns={'Number of Boats':'NumberOfBoats','Reef ':'Reef', 'Boat Type':'BoatType'},inplace=True)\n",
    "    return sourceData\n",
    "#get source data\n",
    "#read data to dataframe    \n",
    "boatCount = reefBoatCount()\n",
    "boatCount['Year'] = boatCount.Date.map(lambda x: x.year)\n",
    "#boatCount.head()\n",
    "\n",
    "#create a palette with a number of colors equal to the number of reef locations\n",
    "numbars = len(boatCount.groupby('Reef',as_index=False).sum().Reef)\n",
    "mypalette = Spectral11[0:numbars]\n"
   ]
  },
  {
   "cell_type": "code",
   "execution_count": null,
   "metadata": {
    "collapsed": false
   },
   "outputs": [],
   "source": [
    "#by reef\n",
    "\n",
    "byReef = boatCount.groupby(['Reef'],as_index=False).sum()\n",
    "byReef.drop('Year', axis=1, inplace=True)\n",
    "byReef.head()"
   ]
  },
  {
   "cell_type": "code",
   "execution_count": null,
   "metadata": {
    "collapsed": false
   },
   "outputs": [],
   "source": [
    "hover = HoverTool()\n",
    "hover.tooltips = [(\"Boats\", \"@height\")]\n",
    "myTools = [BoxZoomTool(), PanTool(), SaveTool(), hover]\n",
    "r = Bar(byReef, values='NumberOfBoats', label='Reef', title='Total Number of Boats Observed by Reef',\n",
    "      color='#66c2a5', tools=myTools, legend=False, plot_width=750, plot_height=750)\n",
    "\n",
    "bokeh.io.show(r)"
   ]
  },
  {
   "cell_type": "code",
   "execution_count": null,
   "metadata": {
    "collapsed": false
   },
   "outputs": [],
   "source": [
    "mypalette\n"
   ]
  },
  {
   "cell_type": "code",
   "execution_count": null,
   "metadata": {
    "collapsed": true
   },
   "outputs": [],
   "source": []
  }
 ],
 "metadata": {
  "anaconda-cloud": {},
  "kernelspec": {
   "display_name": "Python [conda root]",
   "language": "python",
   "name": "conda-root-py"
  },
  "language_info": {
   "codemirror_mode": {
    "name": "ipython",
    "version": 2
   },
   "file_extension": ".py",
   "mimetype": "text/x-python",
   "name": "python",
   "nbconvert_exporter": "python",
   "pygments_lexer": "ipython2",
   "version": "2.7.12"
  }
 },
 "nbformat": 4,
 "nbformat_minor": 0
}
