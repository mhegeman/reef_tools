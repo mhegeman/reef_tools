{
 "cells": [
  {
   "cell_type": "code",
   "execution_count": null,
   "metadata": {
    "collapsed": false
   },
   "outputs": [],
   "source": [
    "import numpy as np\n",
    "import pandas as pd\n",
    "from bokeh.palettes import Spectral11\n",
    "from bokeh.charts import Bar, output_file, show\n",
    "from bokeh.charts.attributes import cat, color\n",
    "from bokeh.charts.operations import blend\n",
    "from bokeh.models import HoverTool, BoxZoomTool, PanTool, SaveTool\n",
    "\n",
    "#to show charts inline\n",
    "from bokeh.io import push_notebook, show, output_notebook\n",
    "output_notebook()\n",
    "\n",
    "#data\n",
    "def reefBoatCount():\n",
    "    sourceData = pd.read_csv(\"C:/Users/maalbino/Documents/project_dev/reef_tools/ReefsAerialSurvey_boatcount.csv\")\n",
    "    sourceData['Date'] = pd.to_datetime(sourceData['Date'], format='%m/%d/%Y')\n",
    "    sourceData.rename(columns={'Number of Boats':'NumberOfBoats','Reef ':'Reef', 'Boat Type':'BoatType'},inplace=True)\n",
    "    return sourceData\n",
    "#get source data\n",
    "#read data to dataframe    \n",
    "boatCount = reefBoatCount()\n",
    "boatCount['Year'] = boatCount.Date.map(lambda x: x.year)\n",
    "#boatCount.head()\n",
    "\n",
    "#create a palette with a number of colors equal to the number of reef locations\n",
    "numbars = len(boatCount.groupby('Reef',as_index=False).sum().Reef)\n",
    "mypalette = Spectral11[0:numbars]\n"
   ]
  },
  {
   "cell_type": "code",
   "execution_count": null,
   "metadata": {
    "collapsed": false
   },
   "outputs": [],
   "source": [
    "output_file(\"reefboatcount.html\")\n",
    "hover = HoverTool()\n",
    "hover.tooltips = [(\"Reef\",\"@Reef\"),\n",
    "                 (\"Year\",\"@Year\"),\n",
    "                 (\"Boats\", \"@height\"),]\n",
    "myTools = [BoxZoomTool(), PanTool(), SaveTool(), hover]\n",
    "byYear = Bar(boatCount, label='Year', values='NumberOfBoats', stack='Reef',\n",
    "            title='Total Number of Boats Observed Using Reefs by Year (1995-2015), Stacked by Reef', \n",
    "            color=color(columns='Reef', palette=mypalette,sort=False), \n",
    "            tools=myTools,legend=False)\n",
    "\n",
    "show(byYear)"
   ]
  },
  {
   "cell_type": "code",
   "execution_count": null,
   "metadata": {
    "collapsed": true
   },
   "outputs": [],
   "source": []
  }
 ],
 "metadata": {
  "anaconda-cloud": {},
  "kernelspec": {
   "display_name": "Python [Root]",
   "language": "python",
   "name": "Python [Root]"
  },
  "language_info": {
   "codemirror_mode": {
    "name": "ipython",
    "version": 2
   },
   "file_extension": ".py",
   "mimetype": "text/x-python",
   "name": "python",
   "nbconvert_exporter": "python",
   "pygments_lexer": "ipython2",
   "version": "2.7.12"
  }
 },
 "nbformat": 4,
 "nbformat_minor": 0
}
