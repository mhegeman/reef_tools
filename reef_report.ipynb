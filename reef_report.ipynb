{
 "cells": [
  {
   "cell_type": "code",
   "execution_count": null,
   "metadata": {
    "collapsed": false
   },
   "outputs": [],
   "source": [
    "#import bokeh modules for interactive plotting\n",
    "import numpy as np\n",
    "import pandas as pd\n",
    "\n",
    "from bokeh.charts import Bar, output_file, show\n",
    "from bokeh.models import ColumnDataSource\n",
    "from bokeh.plotting import figure\n",
    "from bokeh.models import HoverTool, BoxZoomTool, PanTool, SaveTool\n",
    "from bokeh.palettes import Spectral11\n",
    "\n",
    "#to show charts inline\n",
    "#from bokeh.io import push_notebook, show, output_notebook\n",
    "#output_notebook()"
   ]
  },
  {
   "cell_type": "code",
   "execution_count": null,
   "metadata": {
    "collapsed": true
   },
   "outputs": [],
   "source": [
    "#data\n",
    "def reefBoatCount():\n",
    "    sourceData = pd.read_csv(\"C:/Users/maalbino/Documents/project_dev/reef_tools/ReefsAerialSurvey_boatcount.csv\")\n",
    "    sourceData['Date'] = pd.to_datetime(sourceData['Date'], format='%m/%d/%Y')\n",
    "    sourceData.rename(columns={'Number of Boats':'NumberOfBoats','Reef ':'Reef', 'Boat Type':'BoatType'},inplace=True)\n",
    "    return sourceData\n",
    "#get source data\n",
    "#read data to dataframe    \n",
    "boatCount = reefBoatCount()\n",
    "boatCount['Year'] = boatCount.Date.map(lambda x: x.year)\n",
    "source=ColumnDataSource(boatCount)\n",
    "\n",
    "#create a palette with a number of colors equal to the number of reef locations\n",
    "numbars = len(boatCount.groupby('Reef',as_index=False).sum().Reef)\n",
    "mypalette = Spectral11[0:numbars]\n",
    "\n"
   ]
  },
  {
   "cell_type": "code",
   "execution_count": null,
   "metadata": {
    "collapsed": false
   },
   "outputs": [],
   "source": [
    "#organize data by reef\n",
    "byReef = boatCount.groupby(['Reef'],as_index=False).sum()\n",
    "#set up chart tools\n",
    "hover = HoverTool()\n",
    "hover.tooltips = [(\"Boats\", \"@height\")]\n",
    "myTools = [BoxZoomTool(), PanTool(), SaveTool(), hover]\n",
    "\n",
    "#Create bar chart by reef\n",
    "chartByReef = Bar(byReef, values='NumberOfBoats', label='Reef', title='Total Number of Boats Observed by Reef',\n",
    "      color='#66c2a5', tools=myTools, legend=False, plot_width=400, plot_height=400)\n",
    "#show(chartByReef)"
   ]
  },
  {
   "cell_type": "code",
   "execution_count": null,
   "metadata": {
    "collapsed": false
   },
   "outputs": [],
   "source": [
    "#organize data by Year\n",
    "byYear = boatCount.groupby('Year', as_index=False).sum()\n",
    "byYear.sort_values('Year', inplace=True)\n",
    "\n",
    "#set up chart tools\n",
    "hover = HoverTool()\n",
    "hover.tooltips = [(\"Year\",\"@x\"),\n",
    "                 (\"Boats\", \"@top\"),]\n",
    "myTools = [BoxZoomTool(), PanTool(), SaveTool(), hover]\n",
    "\n",
    "#create bar chart by year\n",
    "chartByYear = figure(background_fill_color='white', plot_width=400, plot_height=400,\n",
    "                         title='Total Number of Boats Observed by Year (1995-2015)',tools=myTools)\n",
    "chartByYear.vbar(x=byYear['Year'], bottom=0, top=byYear['NumberOfBoats'], width=0.5, color='#66c2a5')\n",
    "chartByYear.xaxis.axis_label = \"Year\"\n",
    "chartByYear.yaxis.axis_label = \"Boat Counts\"\n"
   ]
  },
  {
   "cell_type": "code",
   "execution_count": null,
   "metadata": {
    "collapsed": false
   },
   "outputs": [],
   "source": [
    "#from bokeh.layouts import row\n",
    "#show(row(chartByYear, chartByReef))"
   ]
  },
  {
   "cell_type": "code",
   "execution_count": null,
   "metadata": {
    "collapsed": false
   },
   "outputs": [],
   "source": [
    "#create tabbed report\n",
    "from bokeh.models.widgets import Panel, Tabs\n",
    "from bokeh.io import output_file, show\n",
    "from bokeh.plotting import figure\n",
    "\n",
    "output_file(\"C:/Users/maalbino/Documents/project_dev/reef_tools/report_test1.html\")\n",
    "\n",
    "tab1 = Panel(child=chartByYear, title=\"Years\")\n",
    "tab2 = Panel(child=chartByReef, title=\"Reef\")\n",
    "\n",
    "tabs = Tabs(tabs=[tab1, tab2])\n",
    "show(tabs)"
   ]
  },
  {
   "cell_type": "code",
   "execution_count": null,
   "metadata": {
    "collapsed": true
   },
   "outputs": [],
   "source": []
  },
  {
   "cell_type": "code",
   "execution_count": null,
   "metadata": {
    "collapsed": true
   },
   "outputs": [],
   "source": []
  }
 ],
 "metadata": {
  "anaconda-cloud": {},
  "kernelspec": {
   "display_name": "Python [conda root]",
   "language": "python",
   "name": "conda-root-py"
  },
  "language_info": {
   "codemirror_mode": {
    "name": "ipython",
    "version": 2
   },
   "file_extension": ".py",
   "mimetype": "text/x-python",
   "name": "python",
   "nbconvert_exporter": "python",
   "pygments_lexer": "ipython2",
   "version": "2.7.12"
  }
 },
 "nbformat": 4,
 "nbformat_minor": 1
}
